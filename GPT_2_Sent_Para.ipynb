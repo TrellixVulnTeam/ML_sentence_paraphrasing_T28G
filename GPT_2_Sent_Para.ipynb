{
  "nbformat": 4,
  "nbformat_minor": 0,
  "metadata": {
    "colab": {
      "name": "GPT_2_Sent_Para.ipynb",
      "provenance": [],
      "collapsed_sections": [],
      "authorship_tag": "ABX9TyPql7ivgRRbYi8krDijtkHW",
      "include_colab_link": true
    },
    "kernelspec": {
      "name": "python3",
      "display_name": "Python 3"
    }
  },
  "cells": [
    {
      "cell_type": "markdown",
      "metadata": {
        "id": "view-in-github",
        "colab_type": "text"
      },
      "source": [
        "<a href=\"https://colab.research.google.com/github/mudita11/ML_sentence_paraphrasing/blob/master/GPT_2_Sent_Para.ipynb\" target=\"_parent\"><img src=\"https://colab.research.google.com/assets/colab-badge.svg\" alt=\"Open In Colab\"/></a>"
      ]
    },
    {
      "cell_type": "code",
      "metadata": {
        "id": "QqvPcja9EAf3",
        "colab_type": "code",
        "colab": {
          "base_uri": "https://localhost:8080/",
          "height": 544
        },
        "outputId": "7c070d5f-9f99-45e7-a6e4-45069ae1b6e1"
      },
      "source": [
        "!unzip Archive.zip"
      ],
      "execution_count": 1,
      "outputs": [
        {
          "output_type": "stream",
          "text": [
            "Archive:  Archive.zip\n",
            "  inflating: generate_text.py        \n",
            "  inflating: __MACOSX/._generate_text.py  \n",
            "   creating: gpt_2_simple/\n",
            "  inflating: __MACOSX/._gpt_2_simple  \n",
            "  inflating: gpt_2_simple/gpt_2.py   \n",
            "  inflating: __MACOSX/gpt_2_simple/._gpt_2.py  \n",
            "  inflating: gpt_2_simple/__init__.py  \n",
            "   creating: gpt_2_simple/__pycache__/\n",
            "  inflating: __MACOSX/gpt_2_simple/.___pycache__  \n",
            "   creating: gpt_2_simple/src/\n",
            "  inflating: __MACOSX/gpt_2_simple/._src  \n",
            "  inflating: gpt_2_simple/__pycache__/gpt_2.cpython-37.pyc  \n",
            "  inflating: gpt_2_simple/__pycache__/__init__.cpython-37.pyc  \n",
            "  inflating: gpt_2_simple/src/accumulate.py  \n",
            "  inflating: gpt_2_simple/src/__init__.py  \n",
            "   creating: gpt_2_simple/src/__pycache__/\n",
            "  inflating: __MACOSX/gpt_2_simple/src/.___pycache__  \n",
            "  inflating: gpt_2_simple/src/encoder.py  \n",
            "  inflating: gpt_2_simple/src/model.py  \n",
            "  inflating: gpt_2_simple/src/memory_saving_gradients.py  \n",
            "  inflating: gpt_2_simple/src/sample.py  \n",
            "  inflating: gpt_2_simple/src/load_dataset.py  \n",
            "  inflating: gpt_2_simple/src/__pycache__/sample.cpython-37.pyc  \n",
            "  inflating: gpt_2_simple/src/__pycache__/model.cpython-37.pyc  \n",
            "  inflating: gpt_2_simple/src/__pycache__/encoder.cpython-37.pyc  \n",
            "  inflating: gpt_2_simple/src/__pycache__/memory_saving_gradients.cpython-37.pyc  \n",
            "  inflating: gpt_2_simple/src/__pycache__/load_dataset.cpython-37.pyc  \n",
            "  inflating: gpt_2_simple/src/__pycache__/accumulate.cpython-37.pyc  \n",
            "  inflating: gpt_2_simple/src/__pycache__/__init__.cpython-37.pyc  \n",
            "  inflating: requirements.txt        \n"
          ],
          "name": "stdout"
        }
      ]
    },
    {
      "cell_type": "code",
      "metadata": {
        "id": "AzBMsNeMEWsL",
        "colab_type": "code",
        "colab": {
          "base_uri": "https://localhost:8080/",
          "height": 1000
        },
        "outputId": "444f1b3f-33c5-4601-e769-d80dbcbca682"
      },
      "source": [
        "!pip3 install -r ./requirements.txt"
      ],
      "execution_count": 2,
      "outputs": [
        {
          "output_type": "stream",
          "text": [
            "Collecting tensorflow==1.15.2\n",
            "\u001b[?25l  Downloading https://files.pythonhosted.org/packages/9a/d9/fd234c7bf68638423fb8e7f44af7fcfce3bcaf416b51e6d902391e47ec43/tensorflow-1.15.2-cp36-cp36m-manylinux2010_x86_64.whl (110.5MB)\n",
            "\u001b[K     |████████████████████████████████| 110.5MB 87kB/s \n",
            "\u001b[?25hRequirement already satisfied: regex in /usr/local/lib/python3.6/dist-packages (from -r ./requirements.txt (line 2)) (2019.12.20)\n",
            "Requirement already satisfied: requests in /usr/local/lib/python3.6/dist-packages (from -r ./requirements.txt (line 3)) (2.23.0)\n",
            "Requirement already satisfied: tqdm in /usr/local/lib/python3.6/dist-packages (from -r ./requirements.txt (line 4)) (4.41.1)\n",
            "Requirement already satisfied: numpy in /usr/local/lib/python3.6/dist-packages (from -r ./requirements.txt (line 5)) (1.18.5)\n",
            "Collecting toposort\n",
            "  Downloading https://files.pythonhosted.org/packages/e9/8a/321cd8ea5f4a22a06e3ba30ef31ec33bea11a3443eeb1d89807640ee6ed4/toposort-1.5-py2.py3-none-any.whl\n",
            "Requirement already satisfied: astor>=0.6.0 in /usr/local/lib/python3.6/dist-packages (from tensorflow==1.15.2->-r ./requirements.txt (line 1)) (0.8.1)\n",
            "Collecting keras-applications>=1.0.8\n",
            "\u001b[?25l  Downloading https://files.pythonhosted.org/packages/71/e3/19762fdfc62877ae9102edf6342d71b28fbfd9dea3d2f96a882ce099b03f/Keras_Applications-1.0.8-py3-none-any.whl (50kB)\n",
            "\u001b[K     |████████████████████████████████| 51kB 6.3MB/s \n",
            "\u001b[?25hRequirement already satisfied: keras-preprocessing>=1.0.5 in /usr/local/lib/python3.6/dist-packages (from tensorflow==1.15.2->-r ./requirements.txt (line 1)) (1.1.2)\n",
            "Requirement already satisfied: opt-einsum>=2.3.2 in /usr/local/lib/python3.6/dist-packages (from tensorflow==1.15.2->-r ./requirements.txt (line 1)) (3.3.0)\n",
            "Requirement already satisfied: termcolor>=1.1.0 in /usr/local/lib/python3.6/dist-packages (from tensorflow==1.15.2->-r ./requirements.txt (line 1)) (1.1.0)\n",
            "Requirement already satisfied: wrapt>=1.11.1 in /usr/local/lib/python3.6/dist-packages (from tensorflow==1.15.2->-r ./requirements.txt (line 1)) (1.12.1)\n",
            "Requirement already satisfied: six>=1.10.0 in /usr/local/lib/python3.6/dist-packages (from tensorflow==1.15.2->-r ./requirements.txt (line 1)) (1.15.0)\n",
            "Requirement already satisfied: wheel>=0.26; python_version >= \"3\" in /usr/local/lib/python3.6/dist-packages (from tensorflow==1.15.2->-r ./requirements.txt (line 1)) (0.34.2)\n",
            "Collecting tensorboard<1.16.0,>=1.15.0\n",
            "\u001b[?25l  Downloading https://files.pythonhosted.org/packages/1e/e9/d3d747a97f7188f48aa5eda486907f3b345cd409f0a0850468ba867db246/tensorboard-1.15.0-py3-none-any.whl (3.8MB)\n",
            "\u001b[K     |████████████████████████████████| 3.8MB 46.1MB/s \n",
            "\u001b[?25hRequirement already satisfied: grpcio>=1.8.6 in /usr/local/lib/python3.6/dist-packages (from tensorflow==1.15.2->-r ./requirements.txt (line 1)) (1.30.0)\n",
            "Requirement already satisfied: absl-py>=0.7.0 in /usr/local/lib/python3.6/dist-packages (from tensorflow==1.15.2->-r ./requirements.txt (line 1)) (0.9.0)\n",
            "Collecting tensorflow-estimator==1.15.1\n",
            "\u001b[?25l  Downloading https://files.pythonhosted.org/packages/de/62/2ee9cd74c9fa2fa450877847ba560b260f5d0fb70ee0595203082dafcc9d/tensorflow_estimator-1.15.1-py2.py3-none-any.whl (503kB)\n",
            "\u001b[K     |████████████████████████████████| 512kB 39.8MB/s \n",
            "\u001b[?25hCollecting gast==0.2.2\n",
            "  Downloading https://files.pythonhosted.org/packages/4e/35/11749bf99b2d4e3cceb4d55ca22590b0d7c2c62b9de38ac4a4a7f4687421/gast-0.2.2.tar.gz\n",
            "Requirement already satisfied: google-pasta>=0.1.6 in /usr/local/lib/python3.6/dist-packages (from tensorflow==1.15.2->-r ./requirements.txt (line 1)) (0.2.0)\n",
            "Requirement already satisfied: protobuf>=3.6.1 in /usr/local/lib/python3.6/dist-packages (from tensorflow==1.15.2->-r ./requirements.txt (line 1)) (3.12.4)\n",
            "Requirement already satisfied: idna<3,>=2.5 in /usr/local/lib/python3.6/dist-packages (from requests->-r ./requirements.txt (line 3)) (2.10)\n",
            "Requirement already satisfied: certifi>=2017.4.17 in /usr/local/lib/python3.6/dist-packages (from requests->-r ./requirements.txt (line 3)) (2020.6.20)\n",
            "Requirement already satisfied: urllib3!=1.25.0,!=1.25.1,<1.26,>=1.21.1 in /usr/local/lib/python3.6/dist-packages (from requests->-r ./requirements.txt (line 3)) (1.24.3)\n",
            "Requirement already satisfied: chardet<4,>=3.0.2 in /usr/local/lib/python3.6/dist-packages (from requests->-r ./requirements.txt (line 3)) (3.0.4)\n",
            "Requirement already satisfied: h5py in /usr/local/lib/python3.6/dist-packages (from keras-applications>=1.0.8->tensorflow==1.15.2->-r ./requirements.txt (line 1)) (2.10.0)\n",
            "Requirement already satisfied: markdown>=2.6.8 in /usr/local/lib/python3.6/dist-packages (from tensorboard<1.16.0,>=1.15.0->tensorflow==1.15.2->-r ./requirements.txt (line 1)) (3.2.2)\n",
            "Requirement already satisfied: werkzeug>=0.11.15 in /usr/local/lib/python3.6/dist-packages (from tensorboard<1.16.0,>=1.15.0->tensorflow==1.15.2->-r ./requirements.txt (line 1)) (1.0.1)\n",
            "Requirement already satisfied: setuptools>=41.0.0 in /usr/local/lib/python3.6/dist-packages (from tensorboard<1.16.0,>=1.15.0->tensorflow==1.15.2->-r ./requirements.txt (line 1)) (49.2.0)\n",
            "Requirement already satisfied: importlib-metadata; python_version < \"3.8\" in /usr/local/lib/python3.6/dist-packages (from markdown>=2.6.8->tensorboard<1.16.0,>=1.15.0->tensorflow==1.15.2->-r ./requirements.txt (line 1)) (1.7.0)\n",
            "Requirement already satisfied: zipp>=0.5 in /usr/local/lib/python3.6/dist-packages (from importlib-metadata; python_version < \"3.8\"->markdown>=2.6.8->tensorboard<1.16.0,>=1.15.0->tensorflow==1.15.2->-r ./requirements.txt (line 1)) (3.1.0)\n",
            "Building wheels for collected packages: gast\n",
            "  Building wheel for gast (setup.py) ... \u001b[?25l\u001b[?25hdone\n",
            "  Created wheel for gast: filename=gast-0.2.2-cp36-none-any.whl size=7540 sha256=1d6435093ff6f67267b5f546bceb5431672f123f010ed24f5eedad9bdefcde35\n",
            "  Stored in directory: /root/.cache/pip/wheels/5c/2e/7e/a1d4d4fcebe6c381f378ce7743a3ced3699feb89bcfbdadadd\n",
            "Successfully built gast\n",
            "\u001b[31mERROR: tensorflow-probability 0.11.0 has requirement gast>=0.3.2, but you'll have gast 0.2.2 which is incompatible.\u001b[0m\n",
            "Installing collected packages: keras-applications, tensorboard, tensorflow-estimator, gast, tensorflow, toposort\n",
            "  Found existing installation: tensorboard 2.3.0\n",
            "    Uninstalling tensorboard-2.3.0:\n",
            "      Successfully uninstalled tensorboard-2.3.0\n",
            "  Found existing installation: tensorflow-estimator 2.3.0\n",
            "    Uninstalling tensorflow-estimator-2.3.0:\n",
            "      Successfully uninstalled tensorflow-estimator-2.3.0\n",
            "  Found existing installation: gast 0.3.3\n",
            "    Uninstalling gast-0.3.3:\n",
            "      Successfully uninstalled gast-0.3.3\n",
            "  Found existing installation: tensorflow 2.3.0\n",
            "    Uninstalling tensorflow-2.3.0:\n",
            "      Successfully uninstalled tensorflow-2.3.0\n",
            "Successfully installed gast-0.2.2 keras-applications-1.0.8 tensorboard-1.15.0 tensorflow-1.15.2 tensorflow-estimator-1.15.1 toposort-1.5\n"
          ],
          "name": "stdout"
        }
      ]
    },
    {
      "cell_type": "code",
      "metadata": {
        "id": "Kob-V1gNEnzf",
        "colab_type": "code",
        "colab": {
          "base_uri": "https://localhost:8080/",
          "height": 683
        },
        "outputId": "f88350cb-036b-4e57-b46d-fa3bf0423120"
      },
      "source": [
        "!python3 generate_text.py --flag_pretrain true"
      ],
      "execution_count": 7,
      "outputs": [
        {
          "output_type": "stream",
          "text": [
            "WARNING:tensorflow:\n",
            "The TensorFlow contrib module will not be included in TensorFlow 2.0.\n",
            "For more information, please see:\n",
            "  * https://github.com/tensorflow/community/blob/master/rfcs/20180907-contrib-sunset.md\n",
            "  * https://github.com/tensorflow/addons\n",
            "  * https://github.com/tensorflow/io (for I/O related ops)\n",
            "If you depend on functionality not listed there, please file an issue.\n",
            "\n",
            "if true 774M\n",
            "Downloading 774M model...\n",
            "Fetching checkpoint: 1.05Mit [00:00, 550Mit/s]                                                      \n",
            "Fetching encoder.json: 1.05Mit [00:00, 97.4Mit/s]                                                   \n",
            "Fetching hparams.json: 1.05Mit [00:00, 666Mit/s]                                                    \n",
            "Fetching model.ckpt.data-00000-of-00001: 3.10Git [00:46, 66.0Mit/s]                                 \n",
            "Fetching model.ckpt.index: 1.05Mit [00:00, 584Mit/s]                                                \n",
            "Fetching model.ckpt.meta: 2.10Mit [00:00, 4.34Mit/s]\n",
            "Fetching vocab.bpe: 1.05Mit [00:00, 207Mit/s]                                                       \n",
            "2020-08-07 08:50:03.792156: I tensorflow/core/platform/cpu_feature_guard.cc:142] Your CPU supports instructions that this TensorFlow binary was not compiled to use: AVX2 FMA\n",
            "2020-08-07 08:50:03.796206: I tensorflow/core/platform/profile_utils/cpu_utils.cc:94] CPU Frequency: 2300000000 Hz\n",
            "2020-08-07 08:50:03.796461: I tensorflow/compiler/xla/service/service.cc:168] XLA service 0x28f1100 initialized for platform Host (this does not guarantee that XLA will be used). Devices:\n",
            "2020-08-07 08:50:03.796498: I tensorflow/compiler/xla/service/service.cc:176]   StreamExecutor device (0): Host, Default Version\n",
            "2020-08-07 08:50:07.375048: W tensorflow/core/framework/cpu_allocator_impl.cc:81] Allocation of 154389504 exceeds 10% of system memory.\n",
            "Loading checkpoint models/124M/model.ckpt\n",
            "2020-08-07 08:50:08.823340: W tensorflow/core/framework/cpu_allocator_impl.cc:81] Allocation of 154389504 exceeds 10% of system memory.\n",
            "2020-08-07 08:50:16.195145: W tensorflow/core/framework/cpu_allocator_impl.cc:81] Allocation of 32587776 exceeds 10% of system memory.\n",
            "2020-08-07 08:50:16.269798: W tensorflow/core/framework/cpu_allocator_impl.cc:81] Allocation of 32661504 exceeds 10% of system memory.\n",
            "2020-08-07 08:50:16.372418: W tensorflow/core/framework/cpu_allocator_impl.cc:81] Allocation of 32735232 exceeds 10% of system memory.\n",
            "# can you tell me how much you will charge for your service? # how much will i pay for it? # can you tell me the price? # what will you charge? # what is its cost? # i have a dispute but need to know how much it will cost before I instruct you? # i am buying a​ factory house​​ and want to know how much you charge? # i am selling my business and want to know how much you charge? # i have been given a ​contract how much will it cost? # will there be any additional fees to your fee? # what are the costs to your services if i am not entitled to legal aid? # is it free to amend a will? # how much do you charge for will amendments? # how much do you charge to prepare a visa? # what are the costs for your services if i am not entitled to legal aid? # what is the cost of making a will if i am not entitled to legal aid? # i need a cost estimate for legal proceedings. # how much will legal proceedings cost overall? # how much do you charge for a new lease of a commercial property? # how much will it cost to prepare a new will? # how much will it cost to get advice on a personal injury? # i need advice on a a dispute how much will it cost? # how much do you charge for equity release? # i need help with a construction dispute but need to know what you charge? # how much is an employment tribunal going to cost? # how much does it cost if i want to claim against​ my employer? # what is the cost of taking my employer to court? # i am involved in a dispute​ how much would this cost? # how much will my dispute claim cost me? # how much does it cost to make a will? # do you charge for amending a will? # how much is will? # is a ​visa expensive to make? # how much does your fee cost to me? # will it cost me in the end? # how much do you charge for damages? # how much do you charge for damage to the building? # if my needs are not met by the plan, will it cost me? # how much will my costs be if i am not entitled to legal aid? # if I am not entitled to legal aid, how much will it cost me? # how much will you pay for your services if i am not entitled to legal aid? # how much will you charge for the legal aid of a worker? # how much will i pay for legal assistance if i do not provide evidence of legal aid? # how much will i pay for legal aid if i do not provide evidence of legal aid? # how much will you pay for legal aid if i do not provide evidence of legal aid? # how much will i pay for legal aid if i do not provide evidence of legal aid? # how much will pon or fee be? # how much will it cost me to pay for legal assistance if i am not entitled to legal aid? # how much will it cost me to pay for legal aid if i do not provide evidence of legal aid? # how much will it cost me to pay for legal aid if i do not provide evidence of legal aid? # how much will it cost me to pay for legal aid if i do not provide evidence of legal aid? # how much will you pay for legal aid if i do not provide evidence of legal aid? # how much will you deal with legal aid if i don't provide evidence of legal aid? # how much will you pay for legal aid if i don't provide evidence of legal aid? # how much will you pay for legal aid if i don't provide evidence of legal aid? # how much will you pay for legal aid if i don't provide evidence of legal aid? # how much will you pay for legal aid if i don't provide evidence of legal aid? # how much will you pay for legal aid if i don't provide evidence of legal aid? # how much will you pay for legal aid if i don't provide evidence of legal aid? # how much will you pay for legal aid if i do not provide evidence of legal aid? # how much will you pay for legal aid if i don't provide evidence of legal aid? ​<|endoftext|>The fight to end the American Civil War has finally begun.\n",
            "\n",
            "The Battle of Fort Sumter has been fought and won.\n",
            "\n",
            "The Battle of Fort Sumter, first begun in 1812, is the first major battle in American history to be won by a group of nearly 500,000 young men, women and children.\n",
            "\n",
            "The Battle of Fort Sumter is the first major battle in American history to be won by a group of nearly 500,000 young men, women and children.\n",
            "\n",
            "Fort Sumter's battle is not alone.\n",
            "\n",
            "The Battle of Fort Sumter on September 19, 1812 provided the first American victory of the American Civil\n"
          ],
          "name": "stdout"
        }
      ]
    },
    {
      "cell_type": "code",
      "metadata": {
        "id": "qcAXjVbJE5tg",
        "colab_type": "code",
        "colab": {}
      },
      "source": [
        ""
      ],
      "execution_count": null,
      "outputs": []
    }
  ]
}